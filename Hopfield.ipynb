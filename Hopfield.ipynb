{
 "cells": [
  {
   "cell_type": "code",
   "execution_count": 10,
   "id": "5b84e1a8",
   "metadata": {},
   "outputs": [
    {
     "data": {
      "image/png": "[encoded data removed]",
      "text/plain": [
       "<Figure size 720x360 with 4 Axes>"
      ]
     },
     "metadata": {},
     "output_type": "display_data"
    },
    {
     "data": {
      "image/png": "[encoded data removed]",
      "text/plain": [
       "<Figure size 720x360 with 2 Axes>"
      ]
     },
     "metadata": {},
     "output_type": "display_data"
    }
   ],
   "source": [
    "import matplotlib.pyplot as plt\n",
    "import numpy as np\n",
    "\n",
    "# Set random seed for reproducibility\n",
    "np.random.seed(1000)\n",
    "\n",
    "nb_patterns = 4\n",
    "pattern_width = 4\n",
    "pattern_height = 4\n",
    "max_iterations = 30\n",
    "\n",
    "# Initialize the patterns\n",
    "X = np.zeros((nb_patterns, pattern_width * pattern_height))\n",
    "\n",
    "X[0] = [-1, 1, 1, -1, -1, 1, 1, -1, -1, 1, 1, -1, -1, 1, 1, -1]\n",
    "X[1] = [-1, -1, -1, -1, 1, 1, 1, 1, 1, 1, 1, 1, -1, -1, -1, -1]\n",
    "X[2] = [-1, -1, 1, 1, -1, -1, 1, 1, 1, 1, -1, -1, 1, 1, -1, -1]\n",
    "X[3] = [1, 1, -1, -1, 1, 1, -1, -1, -1, -1, 1, 1, -1, -1, 1, 1]\n",
    "\n",
    "# Show the patterns\n",
    "fig, ax = plt.subplots(1, nb_patterns, figsize=(10, 5))\n",
    "\n",
    "for i in range(nb_patterns):\n",
    "    ax[i].matshow(X[i].reshape((pattern_height, pattern_width)), cmap='gray')\n",
    "    ax[i].set_xticks([])\n",
    "    ax[i].set_yticks([])\n",
    "    \n",
    "plt.show()\n",
    "\n",
    "# Train the network\n",
    "W = np.zeros((pattern_width * pattern_height, pattern_width * pattern_height))\n",
    "# sum outer product then subtract the identity matrix*number of weights? \n",
    "outerprod = 0;\n",
    "for m in range(len(X)):\n",
    "    outerprod += (np.outer(X[m],(X[m])))\n",
    "#Add code here to update the weights   \n",
    "W = outerprod - len(X)*np.identity(pattern_height**2)\n",
    "\n",
    " \n",
    "      \n",
    "# Create a corrupted test pattern\n",
    "#x_test = np.array([1, 1, 1, 1, 1, -1, 1, 1, -1, 1, -1, -1, 1, 1, 1, 1])\n",
    "x_test = np.array([-1, 1, 1, -1, -1, 1, 1, -1, 1, -1, 1, -1, 1, 1, 1, -1])\n",
    "#x_test = np.array([1, -1, -1, 1, 1, -1, 1, -1, -1, 1, 1, -1, -1, 1, -1, 1])\n",
    "# Recover the original patterns\n",
    "A = x_test.copy()\n",
    "\n",
    "#for _ in range(max_iterations):\n",
    "#    for i in range(pattern_width * pattern_height):\n",
    "#        A[i] = 1.0 if np.dot(W[i], A) > 0 else -1.0\n",
    "\n",
    "for _ in range(max_iterations):\n",
    "    A=np.sign(np.dot(W,A))\n",
    "\n",
    "# Show corrupted and recovered patterns\n",
    "fig, ax = plt.subplots(1, 2, figsize=(10, 5))\n",
    "ax[0].matshow(x_test.reshape(pattern_height, pattern_width), cmap='gray')\n",
    "ax[0].set_title('Corrupted pattern')\n",
    "ax[0].set_xticks([])\n",
    "ax[0].set_yticks([])\n",
    "\n",
    "ax[1].matshow(A.reshape(pattern_height, pattern_width), cmap='gray')\n",
    "ax[1].set_title('Recovered pattern')\n",
    "ax[1].set_xticks([])\n",
    "ax[1].set_yticks([])\n",
    "\n",
    "plt.show()"
   ]
  },
  {
   "cell_type": "markdown",
   "id": "82b06310",
   "metadata": {},
   "source": [
    "# test the bug "
   ]
  },
  {
   "cell_type": "code",
   "execution_count": 21,
   "id": "420574cc",
   "metadata": {},
   "outputs": [
    {
     "name": "stdout",
     "output_type": "stream",
     "text": [
      "Memory Patterns\n"
     ]
    },
    {
     "data": {
      "image/png": "[encoded data removed]",
      "text/plain": [
       "<Figure size 720x360 with 2 Axes>"
      ]
     },
     "metadata": {},
     "output_type": "display_data"
    },
    {
     "data": {
      "image/png": "[encoded data removed]",
      "text/plain": [
       "<Figure size 720x360 with 2 Axes>"
      ]
     },
     "metadata": {},
     "output_type": "display_data"
    }
   ],
   "source": [
    "import matplotlib.pyplot as plt\n",
    "import numpy as np\n",
    "\n",
    "# Set random seed for reproducibility\n",
    "np.random.seed(1000)\n",
    "\n",
    "nb_patterns = 2\n",
    "pattern_width = 2\n",
    "pattern_height = 2\n",
    "max_iterations = 30\n",
    "\n",
    "# Initialize the patterns\n",
    "X = np.zeros((nb_patterns, pattern_width * pattern_height))\n",
    "\n",
    "X[0] = [1, 1, 1, -1,]\n",
    "X[1] = [-1,-1, -1, 1]\n",
    "#X[2] = [-1, -1, 1, 1, -1, -1, 1, 1, 1, 1, -1, -1, 1, 1, -1, -1]\n",
    "#X[3] = [1, 1, -1, -1, 1, 1, -1, -1, -1, -1, 1, 1, -1, -1, 1, 1]\n",
    "\n",
    "# Show the patterns\n",
    "fig, ax = plt.subplots(1, nb_patterns, figsize=(10, 5))\n",
    "\n",
    "print(\"Memory Patterns\")\n",
    "for i in range(nb_patterns):\n",
    "    ax[i].matshow(X[i].reshape((pattern_height, pattern_width)), cmap='gray')\n",
    "    ax[i].set_xticks([])\n",
    "    ax[i].set_yticks([])\n",
    "    ax[i].set_title(X[i])\n",
    "    \n",
    "    \n",
    "plt.show()\n",
    "\n",
    "# Train the network\n",
    "W = np.zeros((pattern_width * pattern_height, pattern_width * pattern_height))\n",
    "# sum outer product then subtract the identity matrix*number of weights? \n",
    "outerprod = 0;\n",
    "for m in range(len(X)):\n",
    "    outerprod += (np.outer(X[m],(X[m])))\n",
    "#Add code here to update the weights   \n",
    "W = outerprod - len(X)*np.identity(pattern_height**2)\n",
    "\n",
    "# Create a corrupted test pattern\n",
    "x_test = np.array([-1, -1, 1, 1])\n",
    "#x_test = np.array([1, -1, 1, 1])\n",
    "# Recover the original patterns\n",
    "A = x_test.copy()\n",
    "\n",
    "#for _ in range(max_iterations):\n",
    "#    for i in range(pattern_width * pattern_height):\n",
    "#        A[i] = 1.0 if np.dot(W[i], A) > 0 else -1.0\n",
    "\n",
    "for _ in range(max_iterations):\n",
    "    A=np.sign(np.dot(W,A))\n",
    "    #if _ == 1:\n",
    "    #    print(W)\n",
    "    #    print(A)\n",
    "\n",
    "# Show corrupted and recovered patterns\n",
    "fig, ax = plt.subplots(1, 2, figsize=(10, 5))\n",
    "ax[0].matshow(x_test.reshape(pattern_height, pattern_width), cmap='gray')\n",
    "ax[0].set_title('Corrupted pattern')\n",
    "ax[0].set_xticks([])\n",
    "ax[0].set_yticks([])\n",
    "\n",
    "ax[1].matshow(A.reshape(pattern_height, pattern_width), cmap='gray')\n",
    "ax[1].set_title('Recovered pattern')\n",
    "ax[1].set_xticks([])\n",
    "ax[1].set_yticks([])\n",
    "\n",
    "plt.show()"
   ]
  },
  {
   "cell_type": "code",
   "execution_count": null,
   "id": "f4bd8c11",
   "metadata": {},
   "outputs": [],
   "source": []
  }
 ],
 "metadata": {
  "kernelspec": {
   "display_name": "Python 3 (ipykernel)",
   "language": "python",
   "name": "python3"
  },
  "language_info": {
   "codemirror_mode": {
    "name": "ipython",
    "version": 3
   },
   "file_extension": ".py",
   "mimetype": "text/x-python",
   "name": "python",
   "nbconvert_exporter": "python",
   "pygments_lexer": "ipython3",
   "version": "3.8.8"
  }
 },
 "nbformat": 4,
 "nbformat_minor": 5
}
